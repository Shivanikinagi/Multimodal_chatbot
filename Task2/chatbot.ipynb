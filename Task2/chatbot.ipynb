{
 "cells": [
  {
   "cell_type": "code",
   "execution_count": null,
   "id": "f1de55ba-9da9-4ddb-8aa8-3729d4a9baf1",
   "metadata": {},
   "outputs": [
    {
     "name": "stderr",
     "output_type": "stream",
     "text": [
      "\n",
      "[notice] A new release of pip is available: 24.3.1 -> 25.0.1\n",
      "[notice] To update, run: C:\\Users\\shivani\\AppData\\Local\\Programs\\Python\\Python312\\python.exe -m pip install --upgrade pip\n"
     ]
    },
    {
     "name": "stdout",
     "output_type": "stream",
     "text": [
      "Note: you may need to restart the kernel to use updated packages.\n"
     ]
    },
    {
     "name": "stderr",
     "output_type": "stream",
     "text": [
      "C:\\Users\\shivani\\AppData\\Local\\Programs\\Python\\Python312\\Lib\\site-packages\\tqdm\\auto.py:21: TqdmWarning: IProgress not found. Please update jupyter and ipywidgets. See https://ipywidgets.readthedocs.io/en/stable/user_install.html\n",
      "  from .autonotebook import tqdm as notebook_tqdm\n"
     ]
    },
    {
     "name": "stdout",
     "output_type": "stream",
     "text": [
      "Loading Stable Diffusion model... This may take a few minutes.\n"
     ]
    },
    {
     "name": "stderr",
     "output_type": "stream",
     "text": [
      "Loading pipeline components...: 100%|████████████████████████████████| 7/7 [00:01<00:00,  3.56it/s]\n"
     ]
    },
    {
     "name": "stdout",
     "output_type": "stream",
     "text": [
      "Welcome to the Image Generator! (Type 'exit' to quit)\n"
     ]
    },
    {
     "name": "stdin",
     "output_type": "stream",
     "text": [
      "Enter an image prompt (or type 'exit' to quit):  generate image of a cow\n"
     ]
    },
    {
     "name": "stdout",
     "output_type": "stream",
     "text": [
      "Generating image for prompt: 'generate image of a cow'... (This may take 10+ minutes on CPU)\n"
     ]
    },
    {
     "name": "stderr",
     "output_type": "stream",
     "text": [
      " 32%|███████████████████▊                                          | 16/50 [12:45<25:22, 44.77s/it]"
     ]
    }
   ],
   "source": [
    "%pip install diffusers transformers accelerate torch safetensors --quiet\n",
    "\n",
    "from diffusers import StableDiffusionPipeline\n",
    "import torch\n",
    "from PIL import Image\n",
    "\n",
    "device = \"cpu\" \n",
    "\n",
    "print(\"Loading Stable Diffusion model... This may take a few minutes.\")\n",
    "image_generator = StableDiffusionPipeline.from_pretrained(\n",
    "    \"runwayml/stable-diffusion-v1-5\", \n",
    "    torch_dtype=torch.float32 \n",
    ").to(device)\n",
    "\n",
    "def generate_image(prompt):\n",
    "    print(f\"Generating image for prompt: '{prompt}'... (This may take 10+ minutes on CPU)\")\n",
    "\n",
    "    with torch.no_grad():  \n",
    "        image = image_generator(prompt).images[0]  \n",
    "    \n",
    "    image_path = \"/content/generated_image.png\"\n",
    "    image.save(image_path)  \n",
    "    \n",
    "    print(f\"Image saved at: {image_path}\")\n",
    "    return image_path\n",
    "\n",
    "def image_prompt():\n",
    "    print(\"Welcome to the Image Generator! (Type 'exit' to quit)\")\n",
    "    \n",
    "    while True:\n",
    "        user_input = input(\"Enter an image prompt (or type 'exit' to quit): \") \n",
    "        \n",
    "        if user_input.lower() == \"exit\":\n",
    "            print(\"Goodbye!\")\n",
    "            break\n",
    "\n",
    "        image_path = generate_image(user_input)\n",
    "        \n",
    "        display(Image.open(image_path))\n",
    "\n",
    "image_prompt()\n"
   ]
  },
  {
   "cell_type": "code",
   "execution_count": null,
   "id": "13d35792-0986-4081-a013-561e68107a51",
   "metadata": {},
   "outputs": [],
   "source": []
  }
 ],
 "metadata": {
  "kernelspec": {
   "display_name": "Python 3 (ipykernel)",
   "language": "python",
   "name": "python3"
  },
  "language_info": {
   "codemirror_mode": {
    "name": "ipython",
    "version": 3
   },
   "file_extension": ".py",
   "mimetype": "text/x-python",
   "name": "python",
   "nbconvert_exporter": "python",
   "pygments_lexer": "ipython3",
   "version": "3.12.7"
  }
 },
 "nbformat": 4,
 "nbformat_minor": 5
}
